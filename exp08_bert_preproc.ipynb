{
 "cells": [
  {
   "cell_type": "markdown",
   "metadata": {},
   "source": [
    "# Experimento08: Transformers (BERT) con datos PRE-PROCESADOS"
   ]
  },
  {
   "cell_type": "markdown",
   "metadata": {},
   "source": [
    "## Librerías"
   ]
  },
  {
   "cell_type": "code",
   "execution_count": 2,
   "metadata": {},
   "outputs": [],
   "source": [
    "# Librerias necesarias\n",
    "import os\n",
    "\n",
    "# Matplotlib conf\n",
    "import matplotlib.pyplot as plt\n",
    "%matplotlib inline\n",
    "params = {'legend.fontsize': 'x-large',\n",
    "          'figure.figsize': (15, 5),\n",
    "         'axes.labelsize': 'x-large',\n",
    "         'axes.titlesize':'x-large',\n",
    "         'xtick.labelsize':40,\n",
    "         'ytick.labelsize': 40\n",
    "}\n",
    "plt.rcParams.update(params)\n",
    "# Seaborn conf\n",
    "import seaborn as sns\n",
    "sns.set(style='darkgrid')\n",
    "sns.set_palette(sns.color_palette(\"Blues\"))\n",
    "\n",
    "import sys\n",
    "\n",
    "#Procesado de datos\n",
    "import pandas as pd\n",
    "import numpy as np\n",
    "import operator\n",
    "\n",
    "#Modelos\n",
    "from sklearn.feature_extraction.text import CountVectorizer, TfidfVectorizer\n",
    "\n",
    "\n",
    "from sklearn.decomposition import TruncatedSVD\n",
    "from tensorflow.keras.utils import to_categorical\n",
    "from tensorflow.keras.preprocessing.text import Tokenizer\n",
    "from keras.preprocessing.sequence import pad_sequences\n",
    "\n",
    "from sklearn.metrics import classification_report, accuracy_score, precision_score, recall_score\n",
    "from sklearn.metrics import confusion_matrix\n",
    "\n",
    "from sklearn import preprocessing\n",
    "from nltk import ngrams\n",
    "\n",
    "from keras.layers import Dense, Embedding, Flatten, GlobalMaxPool1D, Dropout\n",
    "from keras.models import Sequential, Model\n",
    "from tensorflow.keras.layers import Input\n",
    "from keras.preprocessing.sequence import pad_sequences\n",
    "\n",
    "from sklearn.model_selection import train_test_split\n",
    "from tensorflow.keras.utils import to_categorical\n",
    "from keras.callbacks import EarlyStopping\n",
    "\n",
    "from tensorflow.keras import regularizers\n",
    "\n",
    "from keras.initializers import Constant\n",
    "\n",
    "from wordcloud import WordCloud\n",
    "\n",
    "from sklearn.decomposition import TruncatedSVD\n",
    "from tensorflow import keras\n",
    "from tensorflow.keras import layers\n",
    "from keras.utils import plot_model\n",
    "import tensorflow as tf\n",
    "\n",
    "from sklearn import preprocessing\n",
    "from nltk import ngrams\n",
    "\n",
    "from tensorflow.keras import regularizers\n",
    "\n",
    "# compatibilidad de Keras 2 con TensorFlow 2.16\n",
    "# da problemas con la librería transformers al compilar el modelo\n",
    "\n",
    "import os\n",
    "os.environ['TF_USE_LEGACY_KERAS'] = '1'\n",
    "\n",
    "#primero importamos los paquetes necesarios para trabajar\n",
    "import transformers\n",
    "from transformers import AutoTokenizer, TFAutoModelForSequenceClassification\n",
    "import re\n",
    "from tensorflow.keras.losses import SparseCategoricalCrossentropy, BinaryCrossentropy\n",
    "\n",
    "#si no queremos ver los warnings\n",
    "import warnings\n",
    "warnings.filterwarnings(\"ignore\")\n"
   ]
  },
  {
   "cell_type": "markdown",
   "metadata": {},
   "source": [
    "## Carga de datos y preproceso"
   ]
  },
  {
   "cell_type": "code",
   "execution_count": 3,
   "metadata": {},
   "outputs": [],
   "source": [
    "df_training = pd.read_csv(\"./data/ds_training_processed.csv\")\n",
    "df_testing = pd.read_csv(\"./data/ds_testing_processed.csv\")\n",
    "\n",
    "X_train = df_training[\"text\"]\n",
    "y_train = df_training[\"sentiment\"]\n",
    "X_test = df_testing[\"text\"]\n",
    "y_test = df_testing[\"sentiment\"]\n",
    "\n",
    "y_train_2 = to_categorical(y_train, num_classes=2)\n",
    "y_test_2 = to_categorical(y_test, num_classes=2)"
   ]
  },
  {
   "cell_type": "markdown",
   "metadata": {},
   "source": [
    "## Funciones generales"
   ]
  },
  {
   "cell_type": "code",
   "execution_count": 4,
   "metadata": {},
   "outputs": [],
   "source": [
    "pd.set_option('display.max_colwidth', 2000)\n",
    "vocab_size = 29773\n",
    "emb_dim = 50\n",
    "num_words = 29773\n",
    "\n",
    "results = []\n",
    "def add_to_results(classifier, repmodel, predict_x, y_test):\n",
    "    y_pred = get_labels_from_logits(predict_x)\n",
    "\n",
    "    results.append({\"classifier\": classifier,\n",
    "                    \"rep.model\": repmodel,\n",
    "                    \"accuracy\": accuracy_score(y_test, y_pred),\n",
    "                    \"precision\": precision_score(y_test, y_pred, average=\"weighted\"),\n",
    "                    \"recall\": recall_score(y_test,y_pred, average=\"weighted\")\n",
    "                    })\n",
    "\n",
    "def plot_history(history):\n",
    "    acc = history.history['accuracy']\n",
    "    val_acc = history.history['val_accuracy']\n",
    "    loss = history.history['loss']\n",
    "    val_loss = history.history['val_loss']\n",
    "    x = range(1, len(acc) + 1)\n",
    "\n",
    "    plt.figure(figsize=(12, 5))\n",
    "\n",
    "    plt.subplot(1, 2, 1)\n",
    "    plt.plot(x, acc, 'bo', label='Training acc')\n",
    "    plt.plot(x, val_acc, 'r', label='Validation acc')\n",
    "    plt.title('Training and validation accuracy')\n",
    "    plt.xlabel(\"Epochs\")\n",
    "    plt.ylabel(\"Accuracy\")\n",
    "    plt.legend()\n",
    "\n",
    "    plt.subplot(1, 2, 2)\n",
    "    plt.xlabel(\"Epochs\")\n",
    "    plt.plot(x, loss, 'b', label='Training loss')\n",
    "    plt.plot(x, val_loss, 'r', label='Validation loss')\n",
    "    plt.title('Training and validation loss')\n",
    "    plt.xlabel(\"Epochs\")\n",
    "    plt.ylabel(\"Loss\")\n",
    "    plt.legend()\n",
    "\n",
    "def nn_classification_report(predict_x, y_test, class_names):\n",
    "    y_pred = get_labels_from_logits(predict_x)\n",
    "\n",
    "    print(\"Classification Report\")\n",
    "    print\n",
    "\n",
    "    print(classification_report(y_true=y_test, y_pred=y_pred, target_names=class_names))\n",
    "    cm = confusion_matrix(y_true=y_test, y_pred=y_pred)\n",
    "\n",
    "    plot_confusion_matrix(cm, classes=class_names)\n",
    "\n",
    "    print(\"Final Accuracy\")\n",
    "    print(accuracy_score(y_test, y_pred))\n",
    "\n",
    "def plot_confusion_matrix(cm, classes,\n",
    "                          normalize=False,\n",
    "                          title='Confusion matrix',\n",
    "                          cmap=plt.cm.Blues):\n",
    "\n",
    "    import itertools\n",
    "    if normalize:\n",
    "        cm = cm.astype('float') / cm.sum(axis=1)[:, np.newaxis]\n",
    "        print(\"Normalized confusion matrix\")\n",
    "    else:\n",
    "        print('Confusion matrix, without normalization')\n",
    "    plt.figure()\n",
    "    plt.imshow(cm, interpolation='nearest', cmap=cmap)\n",
    "    plt.colorbar()\n",
    "    tick_marks = np.arange(len(classes))\n",
    "    plt.xticks(tick_marks, classes, rotation=90)\n",
    "    plt.yticks(tick_marks, classes)\n",
    "\n",
    "    fmt = '.2f' if normalize else 'd'\n",
    "    thresh = cm.max() / 2.\n",
    "    for i, j in itertools.product(range(cm.shape[0]), range(cm.shape[1])):\n",
    "        plt.text(j, i, format(cm[i, j], fmt),\n",
    "                 horizontalalignment=\"center\",\n",
    "                 color=\"white\" if cm[i, j] > thresh else \"black\")\n",
    "\n",
    "    plt.tight_layout()\n",
    "    plt.ylabel('True label')\n",
    "    plt.xlabel('Predicted label')\n",
    "    plt.show()\n",
    "\n",
    "def join_csv_for_experiment(experiment_string, number_of_experiements):\n",
    "    experiments_data = []\n",
    "    for i in range(1, number_of_experiements+1):\n",
    "        experiments_data.append( pd.read_csv(\"exp_\"+experiment_string+\"_\"+str(i)+\".csv\") )\n",
    "\n",
    "    res = pd.concat(experiments_data, ignore_index=True)\n",
    "    res.to_csv(\"exp_\"+experiment_string+\".csv\")\n",
    "\n",
    "def get_labels_from_logits(preds):\n",
    "    exp = \"08\"\n",
    "    logits = preds.logits\n",
    "    probs = tf.nn.sigmoid(logits).numpy()\n",
    "    predicted_labels = (probs > 0.5).astype(int).flatten()\n",
    "    # print(accuracy_score(y_test, predicted_labels))\n",
    "    return predicted_labels"
   ]
  },
  {
   "cell_type": "markdown",
   "metadata": {},
   "source": [
    "## Clasificadores"
   ]
  },
  {
   "cell_type": "code",
   "execution_count": 5,
   "metadata": {},
   "outputs": [],
   "source": [
    "transformer_model_name = 'bert-base-uncased'\n",
    "\n",
    "#cargamos el tokenizador correspondiente al modelo con el que vamos a trabajar, ya que así tokenizará la entrada en el\n",
    "#formato que se pre-entrenó el modelo\n",
    "\n",
    "model_tokenizer = AutoTokenizer.from_pretrained(transformer_model_name)\n",
    "\n",
    "#procedemos a tokenizar la entrada usando el tokenizador cargado\n",
    "#indicamos que la entrada se corte si es más larga de lo que acepta el modelo y que si la entrada es más corta,\n",
    "#se rellene (padding)\n",
    "train_encodings = model_tokenizer(list(X_train), truncation=True, padding=True)"
   ]
  },
  {
   "cell_type": "code",
   "execution_count": 6,
   "metadata": {},
   "outputs": [
    {
     "name": "stdout",
     "output_type": "stream",
     "text": [
      "[101, 2773, 3243, 6235, 3117, 14726, 11333, 3432, 2723, 2098, 2373, 9423, 18238, 1005, 1055, 2773, 2491, 2466, 7354, 8233, 5415, 13048, 2071, 3087, 2064]\n",
      "[1, 1, 1, 1, 1, 1, 1, 1, 1, 1, 1, 1, 1, 1, 1, 1, 1, 1, 1, 1, 1, 1, 1, 1, 1]\n",
      "word quite describe novel\n",
      "id: 101 \ttoken: [CLS]\n",
      "id: 2773 \ttoken: word\n",
      "id: 3243 \ttoken: quite\n",
      "id: 6235 \ttoken: describe\n",
      "id: 3117 \ttoken: novel\n",
      "id: 14726 \ttoken: stunning\n",
      "id: 11333 \ttoken: wa\n",
      "id: 3432 \ttoken: simply\n",
      "id: 2723 \ttoken: floor\n",
      "id: 2098 \ttoken: ##ed\n",
      "id: 2373 \ttoken: power\n",
      "id: 9423 \ttoken: rebecca\n",
      "id: 18238 \ttoken: godfrey\n",
      "id: 1005 \ttoken: '\n",
      "id: 1055 \ttoken: s\n",
      "id: 2773 \ttoken: word\n",
      "id: 2491 \ttoken: control\n",
      "id: 2466 \ttoken: story\n",
      "id: 7354 \ttoken: sara\n",
      "id: 8233 \ttoken: shaw\n",
      "id: 5415 \ttoken: universal\n",
      "id: 13048 \ttoken: singular\n",
      "id: 2071 \ttoken: could\n",
      "id: 3087 \ttoken: anyone\n",
      "id: 2064 \ttoken: can\n",
      "[CLS] word quite describe novel stunning wa simply floored power rebecca godfrey's word control story sara shaw\n"
     ]
    }
   ],
   "source": [
    "print(train_encodings[\"input_ids\"][0][:25])\n",
    "print(train_encodings[\"attention_mask\"][0][:25])\n",
    "print(X_train[0][:25])\n",
    "\n",
    "for token_id in train_encodings[\"input_ids\"][0][:25]:\n",
    "    print(\"id:\", token_id, \"\\ttoken:\", model_tokenizer.decode(token_id))\n",
    "\n",
    "print(model_tokenizer.decode(train_encodings[\"input_ids\"][0][:20]))"
   ]
  },
  {
   "cell_type": "code",
   "execution_count": 7,
   "metadata": {},
   "outputs": [
    {
     "name": "stderr",
     "output_type": "stream",
     "text": [
      "2024-06-13 19:22:28.785747: I external/local_xla/xla/stream_executor/cuda/cuda_executor.cc:901] successful NUMA node read from SysFS had negative value (-1), but there must be at least one NUMA node, so returning NUMA node zero. See more at https://github.com/torvalds/linux/blob/v6.0/Documentation/ABI/testing/sysfs-bus-pci#L344-L355\n",
      "2024-06-13 19:22:28.786652: I external/local_xla/xla/stream_executor/cuda/cuda_executor.cc:901] successful NUMA node read from SysFS had negative value (-1), but there must be at least one NUMA node, so returning NUMA node zero. See more at https://github.com/torvalds/linux/blob/v6.0/Documentation/ABI/testing/sysfs-bus-pci#L344-L355\n",
      "2024-06-13 19:22:28.786828: I external/local_xla/xla/stream_executor/cuda/cuda_executor.cc:901] successful NUMA node read from SysFS had negative value (-1), but there must be at least one NUMA node, so returning NUMA node zero. See more at https://github.com/torvalds/linux/blob/v6.0/Documentation/ABI/testing/sysfs-bus-pci#L344-L355\n",
      "2024-06-13 19:22:28.788021: I external/local_xla/xla/stream_executor/cuda/cuda_executor.cc:901] successful NUMA node read from SysFS had negative value (-1), but there must be at least one NUMA node, so returning NUMA node zero. See more at https://github.com/torvalds/linux/blob/v6.0/Documentation/ABI/testing/sysfs-bus-pci#L344-L355\n",
      "2024-06-13 19:22:28.788206: I external/local_xla/xla/stream_executor/cuda/cuda_executor.cc:901] successful NUMA node read from SysFS had negative value (-1), but there must be at least one NUMA node, so returning NUMA node zero. See more at https://github.com/torvalds/linux/blob/v6.0/Documentation/ABI/testing/sysfs-bus-pci#L344-L355\n",
      "2024-06-13 19:22:28.788371: I external/local_xla/xla/stream_executor/cuda/cuda_executor.cc:901] successful NUMA node read from SysFS had negative value (-1), but there must be at least one NUMA node, so returning NUMA node zero. See more at https://github.com/torvalds/linux/blob/v6.0/Documentation/ABI/testing/sysfs-bus-pci#L344-L355\n",
      "2024-06-13 19:22:28.854565: I external/local_xla/xla/stream_executor/cuda/cuda_executor.cc:901] successful NUMA node read from SysFS had negative value (-1), but there must be at least one NUMA node, so returning NUMA node zero. See more at https://github.com/torvalds/linux/blob/v6.0/Documentation/ABI/testing/sysfs-bus-pci#L344-L355\n",
      "2024-06-13 19:22:28.854776: I external/local_xla/xla/stream_executor/cuda/cuda_executor.cc:901] successful NUMA node read from SysFS had negative value (-1), but there must be at least one NUMA node, so returning NUMA node zero. See more at https://github.com/torvalds/linux/blob/v6.0/Documentation/ABI/testing/sysfs-bus-pci#L344-L355\n",
      "2024-06-13 19:22:28.854949: I external/local_xla/xla/stream_executor/cuda/cuda_executor.cc:901] successful NUMA node read from SysFS had negative value (-1), but there must be at least one NUMA node, so returning NUMA node zero. See more at https://github.com/torvalds/linux/blob/v6.0/Documentation/ABI/testing/sysfs-bus-pci#L344-L355\n",
      "2024-06-13 19:22:28.855081: I tensorflow/core/common_runtime/gpu/gpu_device.cc:1929] Created device /job:localhost/replica:0/task:0/device:GPU:0 with 22154 MB memory:  -> device: 0, name: NVIDIA GeForce RTX 4090, pci bus id: 0000:2b:00.0, compute capability: 8.9\n"
     ]
    }
   ],
   "source": [
    "train_dataset = tf.data.Dataset.from_tensor_slices((dict(train_encodings), y_train))\n",
    "test_encodings = model_tokenizer(list(X_test),\n",
    "                            truncation=True,\n",
    "                            padding=True)\n",
    "test_dataset = tf.data.Dataset.from_tensor_slices((dict(test_encodings), y_test))"
   ]
  },
  {
   "cell_type": "code",
   "execution_count": 8,
   "metadata": {},
   "outputs": [],
   "source": [
    "def exp08_train_bert(num_epochs, model_parameters):\n",
    "    model_description = \"Exp08BERT\"\n",
    "    batch_size = 16\n",
    "    \n",
    "    model = TFAutoModelForSequenceClassification.from_pretrained(transformer_model_name,num_labels=1,from_pt=True)\n",
    "    model.compile(optimizer=tf.keras.optimizers.Adam(learning_rate=5e-5), loss=BinaryCrossentropy(from_logits=True),metrics=[\"accuracy\"])\n",
    "    model.summary()\n",
    "    history = model.fit(train_dataset.shuffle(len(X_train)).batch(batch_size),epochs=num_epochs,batch_size=batch_size)\n",
    "    y_predicted = model.predict(test_dataset.batch(batch_size))\n",
    "    nn_classification_report(y_predicted, y_test, [\"NEGATIVE\",\"POSITIVE\"])\n",
    "    add_to_results(model_description + \" \" + model_parameters, \"\", y_predicted, y_test)  "
   ]
  },
  {
   "cell_type": "code",
   "execution_count": 9,
   "metadata": {},
   "outputs": [
    {
     "name": "stderr",
     "output_type": "stream",
     "text": [
      "All PyTorch model weights were used when initializing TFBertForSequenceClassification.\n",
      "\n",
      "Some weights or buffers of the TF 2.0 model TFBertForSequenceClassification were not initialized from the PyTorch model and are newly initialized: ['classifier.weight', 'classifier.bias']\n",
      "You should probably TRAIN this model on a down-stream task to be able to use it for predictions and inference.\n"
     ]
    },
    {
     "name": "stdout",
     "output_type": "stream",
     "text": [
      "Model: \"tf_bert_for_sequence_classification\"\n",
      "_________________________________________________________________\n",
      " Layer (type)                Output Shape              Param #   \n",
      "=================================================================\n",
      " bert (TFBertMainLayer)      multiple                  109482240 \n",
      "                                                                 \n",
      " dropout_37 (Dropout)        multiple                  0         \n",
      "                                                                 \n",
      " classifier (Dense)          multiple                  769       \n",
      "                                                                 \n",
      "=================================================================\n",
      "Total params: 109483009 (417.64 MB)\n",
      "Trainable params: 109483009 (417.64 MB)\n",
      "Non-trainable params: 0 (0.00 Byte)\n",
      "_________________________________________________________________\n"
     ]
    },
    {
     "name": "stderr",
     "output_type": "stream",
     "text": [
      "2024-06-13 19:25:41.963184: I external/local_xla/xla/service/service.cc:168] XLA service 0x729c6416a960 initialized for platform CUDA (this does not guarantee that XLA will be used). Devices:\n",
      "2024-06-13 19:25:41.963223: I external/local_xla/xla/service/service.cc:176]   StreamExecutor device (0): NVIDIA GeForce RTX 4090, Compute Capability 8.9\n",
      "2024-06-13 19:25:41.972321: I tensorflow/compiler/mlir/tensorflow/utils/dump_mlir_util.cc:269] disabling MLIR crash reproducer, set env var `MLIR_CRASH_REPRODUCER_DIRECTORY` to enable.\n",
      "2024-06-13 19:25:41.995129: I external/local_xla/xla/stream_executor/cuda/cuda_dnn.cc:454] Loaded cuDNN version 8902\n",
      "WARNING: All log messages before absl::InitializeLog() is called are written to STDERR\n",
      "I0000 00:00:1718299542.051939   55934 device_compiler.h:186] Compiled cluster using XLA!  This line is logged at most once for the lifetime of the process.\n"
     ]
    },
    {
     "name": "stdout",
     "output_type": "stream",
     "text": [
      "625/625 [==============================] - 215s 306ms/step - loss: 0.2611 - accuracy: 0.8870\n",
      "125/125 [==============================] - 14s 100ms/step\n",
      "Classification Report\n",
      "              precision    recall  f1-score   support\n",
      "\n",
      "    NEGATIVE       0.92      0.86      0.89       999\n",
      "    POSITIVE       0.87      0.93      0.90       998\n",
      "\n",
      "    accuracy                           0.89      1997\n",
      "   macro avg       0.89      0.89      0.89      1997\n",
      "weighted avg       0.89      0.89      0.89      1997\n",
      "\n",
      "Confusion matrix, without normalization\n"
     ]
    },
    {
     "data": {
      "image/png": "[encoded data removed]",
      "text/plain": [
       "<Figure size 1500x500 with 2 Axes>"
      ]
     },
     "metadata": {},
     "output_type": "display_data"
    },
    {
     "name": "stdout",
     "output_type": "stream",
     "text": [
      "Final Accuracy\n",
      "0.8923385077616425\n"
     ]
    }
   ],
   "source": [
    "results = []\n",
    "exp08_train_bert(num_epochs=1, model_parameters=\"epochs=1 data=PREPROCESSED\")\n",
    "partial = pd.DataFrame(results)\n",
    "partial.to_csv(\"exp_08_4.csv\", index=False)  "
   ]
  },
  {
   "cell_type": "code",
   "execution_count": 10,
   "metadata": {},
   "outputs": [
    {
     "name": "stderr",
     "output_type": "stream",
     "text": [
      "All PyTorch model weights were used when initializing TFBertForSequenceClassification.\n",
      "\n",
      "Some weights or buffers of the TF 2.0 model TFBertForSequenceClassification were not initialized from the PyTorch model and are newly initialized: ['classifier.weight', 'classifier.bias']\n",
      "You should probably TRAIN this model on a down-stream task to be able to use it for predictions and inference.\n"
     ]
    },
    {
     "name": "stdout",
     "output_type": "stream",
     "text": [
      "Model: \"tf_bert_for_sequence_classification_1\"\n",
      "_________________________________________________________________\n",
      " Layer (type)                Output Shape              Param #   \n",
      "=================================================================\n",
      " bert (TFBertMainLayer)      multiple                  109482240 \n",
      "                                                                 \n",
      " dropout_75 (Dropout)        multiple                  0         \n",
      "                                                                 \n",
      " classifier (Dense)          multiple                  769       \n",
      "                                                                 \n",
      "=================================================================\n",
      "Total params: 109483009 (417.64 MB)\n",
      "Trainable params: 109483009 (417.64 MB)\n",
      "Non-trainable params: 0 (0.00 Byte)\n",
      "_________________________________________________________________\n",
      "Epoch 1/2\n",
      "625/625 [==============================] - 212s 306ms/step - loss: 0.2733 - accuracy: 0.8856\n",
      "Epoch 2/2\n",
      "625/625 [==============================] - 191s 306ms/step - loss: 0.1177 - accuracy: 0.9601\n",
      "125/125 [==============================] - 14s 100ms/step\n",
      "Classification Report\n",
      "              precision    recall  f1-score   support\n",
      "\n",
      "    NEGATIVE       0.92      0.85      0.88       999\n",
      "    POSITIVE       0.86      0.92      0.89       998\n",
      "\n",
      "    accuracy                           0.89      1997\n",
      "   macro avg       0.89      0.89      0.89      1997\n",
      "weighted avg       0.89      0.89      0.89      1997\n",
      "\n",
      "Confusion matrix, without normalization\n"
     ]
    },
    {
     "data": {
      "image/png": "[encoded data removed]",
      "text/plain": [
       "<Figure size 1500x500 with 2 Axes>"
      ]
     },
     "metadata": {},
     "output_type": "display_data"
    },
    {
     "name": "stdout",
     "output_type": "stream",
     "text": [
      "Final Accuracy\n",
      "0.8868302453680521\n"
     ]
    }
   ],
   "source": [
    "results = []\n",
    "exp08_train_bert(num_epochs=2, model_parameters=\"epochs=2 data=PREPROCESSED\")\n",
    "partial = pd.DataFrame(results)\n",
    "partial.to_csv(\"exp_08_5.csv\", index=False)"
   ]
  },
  {
   "cell_type": "code",
   "execution_count": 11,
   "metadata": {},
   "outputs": [
    {
     "name": "stderr",
     "output_type": "stream",
     "text": [
      "All PyTorch model weights were used when initializing TFBertForSequenceClassification.\n",
      "\n",
      "Some weights or buffers of the TF 2.0 model TFBertForSequenceClassification were not initialized from the PyTorch model and are newly initialized: ['classifier.weight', 'classifier.bias']\n",
      "You should probably TRAIN this model on a down-stream task to be able to use it for predictions and inference.\n"
     ]
    },
    {
     "name": "stdout",
     "output_type": "stream",
     "text": [
      "Model: \"tf_bert_for_sequence_classification_2\"\n",
      "_________________________________________________________________\n",
      " Layer (type)                Output Shape              Param #   \n",
      "=================================================================\n",
      " bert (TFBertMainLayer)      multiple                  109482240 \n",
      "                                                                 \n",
      " dropout_113 (Dropout)       multiple                  0         \n",
      "                                                                 \n",
      " classifier (Dense)          multiple                  769       \n",
      "                                                                 \n",
      "=================================================================\n",
      "Total params: 109483009 (417.64 MB)\n",
      "Trainable params: 109483009 (417.64 MB)\n",
      "Non-trainable params: 0 (0.00 Byte)\n",
      "_________________________________________________________________\n",
      "Epoch 1/3\n",
      "625/625 [==============================] - 213s 307ms/step - loss: 0.2639 - accuracy: 0.8888\n",
      "Epoch 2/3\n",
      "625/625 [==============================] - 192s 307ms/step - loss: 0.1159 - accuracy: 0.9605\n",
      "Epoch 3/3\n",
      "625/625 [==============================] - 192s 307ms/step - loss: 0.0666 - accuracy: 0.9794\n",
      "125/125 [==============================] - 14s 100ms/step\n",
      "Classification Report\n",
      "              precision    recall  f1-score   support\n",
      "\n",
      "    NEGATIVE       0.91      0.89      0.90       999\n",
      "    POSITIVE       0.90      0.91      0.90       998\n",
      "\n",
      "    accuracy                           0.90      1997\n",
      "   macro avg       0.90      0.90      0.90      1997\n",
      "weighted avg       0.90      0.90      0.90      1997\n",
      "\n",
      "Confusion matrix, without normalization\n"
     ]
    },
    {
     "data": {
      "image/png": "[encoded data removed]",
      "text/plain": [
       "<Figure size 1500x500 with 2 Axes>"
      ]
     },
     "metadata": {},
     "output_type": "display_data"
    },
    {
     "name": "stdout",
     "output_type": "stream",
     "text": [
      "Final Accuracy\n",
      "0.901352028042063\n"
     ]
    }
   ],
   "source": [
    "results = []\n",
    "exp08_train_bert(num_epochs=3, model_parameters=\"epochs=3 data=PREPROCESSED\")\n",
    "partial = pd.DataFrame(results)\n",
    "partial.to_csv(\"exp_08_6.csv\", index=False)"
   ]
  },
  {
   "cell_type": "markdown",
   "metadata": {},
   "source": [
    "## Conclusiones"
   ]
  },
  {
   "cell_type": "code",
   "execution_count": 12,
   "metadata": {},
   "outputs": [
    {
     "data": {
      "text/html": [
       "<div>\n",
       "<style scoped>\n",
       "    .dataframe tbody tr th:only-of-type {\n",
       "        vertical-align: middle;\n",
       "    }\n",
       "\n",
       "    .dataframe tbody tr th {\n",
       "        vertical-align: top;\n",
       "    }\n",
       "\n",
       "    .dataframe thead th {\n",
       "        text-align: right;\n",
       "    }\n",
       "</style>\n",
       "<table border=\"1\" class=\"dataframe\">\n",
       "  <thead>\n",
       "    <tr style=\"text-align: right;\">\n",
       "      <th></th>\n",
       "      <th>classifier</th>\n",
       "      <th>rep.model</th>\n",
       "      <th>accuracy</th>\n",
       "      <th>precision</th>\n",
       "      <th>recall</th>\n",
       "    </tr>\n",
       "  </thead>\n",
       "  <tbody>\n",
       "    <tr>\n",
       "      <th>0</th>\n",
       "      <td>Exp08BERT epochs=2 data=raw</td>\n",
       "      <td>NaN</td>\n",
       "      <td>0.945000</td>\n",
       "      <td>0.947191</td>\n",
       "      <td>0.945000</td>\n",
       "    </tr>\n",
       "    <tr>\n",
       "      <th>1</th>\n",
       "      <td>Exp08BERT epochs=1 data=raw</td>\n",
       "      <td>NaN</td>\n",
       "      <td>0.940000</td>\n",
       "      <td>0.941485</td>\n",
       "      <td>0.940000</td>\n",
       "    </tr>\n",
       "    <tr>\n",
       "      <th>2</th>\n",
       "      <td>Exp08BERT epochs=3 data=raw</td>\n",
       "      <td>NaN</td>\n",
       "      <td>0.938500</td>\n",
       "      <td>0.938521</td>\n",
       "      <td>0.938500</td>\n",
       "    </tr>\n",
       "    <tr>\n",
       "      <th>3</th>\n",
       "      <td>Exp08BERT epochs=3 data=PREPROCESSED</td>\n",
       "      <td>NaN</td>\n",
       "      <td>0.901352</td>\n",
       "      <td>0.901443</td>\n",
       "      <td>0.901352</td>\n",
       "    </tr>\n",
       "    <tr>\n",
       "      <th>4</th>\n",
       "      <td>Exp08BERT epochs=1 data=PREPROCESSED</td>\n",
       "      <td>NaN</td>\n",
       "      <td>0.892339</td>\n",
       "      <td>0.894225</td>\n",
       "      <td>0.892339</td>\n",
       "    </tr>\n",
       "    <tr>\n",
       "      <th>5</th>\n",
       "      <td>Exp08BERT epochs=2 data=PREPROCESSED</td>\n",
       "      <td>NaN</td>\n",
       "      <td>0.886830</td>\n",
       "      <td>0.888636</td>\n",
       "      <td>0.886830</td>\n",
       "    </tr>\n",
       "  </tbody>\n",
       "</table>\n",
       "</div>"
      ],
      "text/plain": [
       "                             classifier  rep.model  accuracy  precision  \\\n",
       "0           Exp08BERT epochs=2 data=raw        NaN  0.945000   0.947191   \n",
       "1           Exp08BERT epochs=1 data=raw        NaN  0.940000   0.941485   \n",
       "2           Exp08BERT epochs=3 data=raw        NaN  0.938500   0.938521   \n",
       "3  Exp08BERT epochs=3 data=PREPROCESSED        NaN  0.901352   0.901443   \n",
       "4  Exp08BERT epochs=1 data=PREPROCESSED        NaN  0.892339   0.894225   \n",
       "5  Exp08BERT epochs=2 data=PREPROCESSED        NaN  0.886830   0.888636   \n",
       "\n",
       "     recall  \n",
       "0  0.945000  \n",
       "1  0.940000  \n",
       "2  0.938500  \n",
       "3  0.901352  \n",
       "4  0.892339  \n",
       "5  0.886830  "
      ]
     },
     "execution_count": 12,
     "metadata": {},
     "output_type": "execute_result"
    }
   ],
   "source": [
    "join_csv_for_experiment(\"08\", 6)\n",
    "pd.read_csv(\"exp_08.csv\").sort_values(by=[\"accuracy\"], ascending=False, ignore_index=True)[[\"classifier\", \"rep.model\", \"accuracy\",\"precision\",\"recall\"]]"
   ]
  }
 ],
 "metadata": {
  "kernelspec": {
   "display_name": "Python 3 (ipykernel)",
   "language": "python",
   "name": "python3"
  },
  "language_info": {
   "codemirror_mode": {
    "name": "ipython",
    "version": 3
   },
   "file_extension": ".py",
   "mimetype": "text/x-python",
   "name": "python",
   "nbconvert_exporter": "python",
   "pygments_lexer": "ipython3",
   "version": "3.10.9"
  }
 },
 "nbformat": 4,
 "nbformat_minor": 2
}
